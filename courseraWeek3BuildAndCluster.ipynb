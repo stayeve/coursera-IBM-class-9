{
  "nbformat": 4,
  "nbformat_minor": 0,
  "metadata": {
    "colab": {
      "name": "courseraWeek3BuildAndCluster.ipynb",
      "provenance": [],
      "collapsed_sections": []
    },
    "kernelspec": {
      "name": "python3",
      "display_name": "Python 3"
    }
  },
  "cells": [
    {
      "cell_type": "code",
      "metadata": {
        "id": "29jMq6J2Q5eX",
        "colab_type": "code",
        "colab": {}
      },
      "source": [
        "import pandas as pd\n",
        "import numpy as np"
      ],
      "execution_count": 0,
      "outputs": []
    },
    {
      "cell_type": "code",
      "metadata": {
        "id": "7pyuJYWkQ9Qq",
        "colab_type": "code",
        "outputId": "6710d5cb-ecb7-4e6b-83be-27800e9a8e11",
        "colab": {
          "base_uri": "https://localhost:8080/",
          "height": 33
        }
      },
      "source": [
        "print(\"Hello Capstone Project Course!\")"
      ],
      "execution_count": 0,
      "outputs": [
        {
          "output_type": "stream",
          "text": [
            "Hello Capstone Project Course!\n"
          ],
          "name": "stdout"
        }
      ]
    },
    {
      "cell_type": "code",
      "metadata": {
        "colab_type": "code",
        "id": "Ri2I4zeDgOgz",
        "colab": {}
      },
      "source": [
        "import requests\n",
        "from bs4 import BeautifulSoup"
      ],
      "execution_count": 0,
      "outputs": []
    },
    {
      "cell_type": "markdown",
      "metadata": {
        "id": "y6qyaSysg0MH",
        "colab_type": "text"
      },
      "source": [
        "Web Scrawler"
      ]
    },
    {
      "cell_type": "code",
      "metadata": {
        "colab_type": "code",
        "id": "dfbTpfQTgOR8",
        "colab": {}
      },
      "source": [
        "target = 'https://en.wikipedia.org/wiki/List_of_postal_codes_of_Canada:_M'\n",
        "req = requests.get(url = target)\n",
        "html = req.text\n",
        "bf = BeautifulSoup(html,'lxml')\n",
        "bf.find_all(\"tbody\") \n",
        "\n",
        "main = bf.find_all('table',class_ = \"wikitable sortable\") \n",
        "bf_tr = BeautifulSoup(str(main),'lxml')\n",
        "str_tr = bf_tr.find_all('tr')\n",
        "Postcode = []\n",
        "Borough = []\n",
        "Neighbourhood = [] \n",
        "for mm in str_tr[1:]:\n",
        "  Postcode.append(BeautifulSoup(str(mm),'lxml').find_all('td')[0].get_text())\n",
        "  Borough.append(BeautifulSoup(str(mm),'lxml').find_all('td')[1].get_text())\n",
        "  Neighbourhood.append(BeautifulSoup(str(mm),'lxml').find_all('td')[2].get_text().replace(\"\\n\",\"\"))"
      ],
      "execution_count": 0,
      "outputs": []
    },
    {
      "cell_type": "markdown",
      "metadata": {
        "colab_type": "text",
        "id": "w5l8BgSggOFo"
      },
      "source": [
        "*   The dataframe will consist of three columns: PostalCode, Borough, and Neighborhood\n",
        "*   Only process the cells that have an assigned borough. Ignore cells with a borough that is Not assigned.\n",
        "*   More than one neighborhood can exist in one postal code area. For example, in the table on the Wikipedia page, you will notice that M5A is listed twice and has two neighborhoods: Harbourfront and Regent Park. These two rows will be combined into one row with the neighborhoods separated with a comma as shown in row 11 in the above table.\n",
        "*   If a cell has a borough but a Not assigned neighborhood, then the neighborhood will be the same as the borough.\n",
        "*   Clean your Notebook and add Markdown cells to explain your work and any assumptions you are making.\n",
        "*   In the last cell of your notebook, use the .shape method to print the number of rows of your dataframe."
      ]
    },
    {
      "cell_type": "code",
      "metadata": {
        "colab_type": "code",
        "id": "3oGgGyrXgN6m",
        "colab": {}
      },
      "source": [
        "pan = {\"Postcode\":Postcode,\"Borough\":Borough,\"Neighbourhood\":Neighbourhood}\n",
        "df = pd.DataFrame(pan)\n",
        "df = df.drop(df[df[\"Borough\"] == \"Not assigned\"].index)\n",
        "df[\"Neighbourhood\"] = df.apply((lambda x: x[\"Neighbourhood\"] if x[\"Neighbourhood\"] != \"Not assigned\" else x[\"Borough\"]),axis = 1)"
      ],
      "execution_count": 0,
      "outputs": []
    },
    {
      "cell_type": "code",
      "metadata": {
        "colab_type": "code",
        "id": "0nuZSveugNvv",
        "colab": {}
      },
      "source": [
        "df_new = df.groupby([\"Postcode\",'Borough']).count()"
      ],
      "execution_count": 0,
      "outputs": []
    },
    {
      "cell_type": "code",
      "metadata": {
        "colab_type": "code",
        "id": "Va7P0dSFgNkw",
        "colab": {}
      },
      "source": [
        "df_new[\"Postcode\"] = \" \"\n",
        "df_new[\"Borough\"] = \" \"\n",
        "df_new[\"Neighbourhood\"] = \" \"\n",
        "for pos,bor in df_new.index:\n",
        "  df_new[\"Postcode\"].loc[(pos,bor)] = pos\n",
        "  df_new[\"Borough\"].loc[(pos,bor)] = bor\n",
        "  df_new[\"Neighbourhood\"].loc[(pos,bor)] = \",\".join(list(df[\"Neighbourhood\"][df[\"Postcode\"]==pos]))\n",
        "  "
      ],
      "execution_count": 0,
      "outputs": []
    },
    {
      "cell_type": "code",
      "metadata": {
        "colab_type": "code",
        "id": "Um9a5ZqTgNZY",
        "colab": {}
      },
      "source": [
        "df_new = df_new.reset_index(drop=True)"
      ],
      "execution_count": 0,
      "outputs": []
    },
    {
      "cell_type": "code",
      "metadata": {
        "colab_type": "code",
        "outputId": "39172074-be0f-452a-dbce-0f0df2f9308c",
        "id": "xXI65fdhgNLs",
        "colab": {
          "base_uri": "https://localhost:8080/",
          "height": 404
        }
      },
      "source": [
        "df_new"
      ],
      "execution_count": 152,
      "outputs": [
        {
          "output_type": "execute_result",
          "data": {
            "text/html": [
              "<div>\n",
              "<style scoped>\n",
              "    .dataframe tbody tr th:only-of-type {\n",
              "        vertical-align: middle;\n",
              "    }\n",
              "\n",
              "    .dataframe tbody tr th {\n",
              "        vertical-align: top;\n",
              "    }\n",
              "\n",
              "    .dataframe thead th {\n",
              "        text-align: right;\n",
              "    }\n",
              "</style>\n",
              "<table border=\"1\" class=\"dataframe\">\n",
              "  <thead>\n",
              "    <tr style=\"text-align: right;\">\n",
              "      <th></th>\n",
              "      <th>Neighbourhood</th>\n",
              "      <th>Postcode</th>\n",
              "      <th>Borough</th>\n",
              "    </tr>\n",
              "  </thead>\n",
              "  <tbody>\n",
              "    <tr>\n",
              "      <th>0</th>\n",
              "      <td>Rouge,Malvern</td>\n",
              "      <td>M1B</td>\n",
              "      <td>Scarborough</td>\n",
              "    </tr>\n",
              "    <tr>\n",
              "      <th>1</th>\n",
              "      <td>Highland Creek,Rouge Hill,Port Union</td>\n",
              "      <td>M1C</td>\n",
              "      <td>Scarborough</td>\n",
              "    </tr>\n",
              "    <tr>\n",
              "      <th>2</th>\n",
              "      <td>Guildwood,Morningside,West Hill</td>\n",
              "      <td>M1E</td>\n",
              "      <td>Scarborough</td>\n",
              "    </tr>\n",
              "    <tr>\n",
              "      <th>3</th>\n",
              "      <td>Woburn</td>\n",
              "      <td>M1G</td>\n",
              "      <td>Scarborough</td>\n",
              "    </tr>\n",
              "    <tr>\n",
              "      <th>4</th>\n",
              "      <td>Cedarbrae</td>\n",
              "      <td>M1H</td>\n",
              "      <td>Scarborough</td>\n",
              "    </tr>\n",
              "    <tr>\n",
              "      <th>...</th>\n",
              "      <td>...</td>\n",
              "      <td>...</td>\n",
              "      <td>...</td>\n",
              "    </tr>\n",
              "    <tr>\n",
              "      <th>98</th>\n",
              "      <td>Weston</td>\n",
              "      <td>M9N</td>\n",
              "      <td>York</td>\n",
              "    </tr>\n",
              "    <tr>\n",
              "      <th>99</th>\n",
              "      <td>Westmount</td>\n",
              "      <td>M9P</td>\n",
              "      <td>Etobicoke</td>\n",
              "    </tr>\n",
              "    <tr>\n",
              "      <th>100</th>\n",
              "      <td>Kingsview Village,Martin Grove Gardens,Richvie...</td>\n",
              "      <td>M9R</td>\n",
              "      <td>Etobicoke</td>\n",
              "    </tr>\n",
              "    <tr>\n",
              "      <th>101</th>\n",
              "      <td>Albion Gardens,Beaumond Heights,Humbergate,Jam...</td>\n",
              "      <td>M9V</td>\n",
              "      <td>Etobicoke</td>\n",
              "    </tr>\n",
              "    <tr>\n",
              "      <th>102</th>\n",
              "      <td>Northwest</td>\n",
              "      <td>M9W</td>\n",
              "      <td>Etobicoke</td>\n",
              "    </tr>\n",
              "  </tbody>\n",
              "</table>\n",
              "<p>103 rows × 3 columns</p>\n",
              "</div>"
            ],
            "text/plain": [
              "                                         Neighbourhood Postcode      Borough\n",
              "0                                        Rouge,Malvern      M1B  Scarborough\n",
              "1                 Highland Creek,Rouge Hill,Port Union      M1C  Scarborough\n",
              "2                      Guildwood,Morningside,West Hill      M1E  Scarborough\n",
              "3                                               Woburn      M1G  Scarborough\n",
              "4                                            Cedarbrae      M1H  Scarborough\n",
              "..                                                 ...      ...          ...\n",
              "98                                              Weston      M9N         York\n",
              "99                                           Westmount      M9P    Etobicoke\n",
              "100  Kingsview Village,Martin Grove Gardens,Richvie...      M9R    Etobicoke\n",
              "101  Albion Gardens,Beaumond Heights,Humbergate,Jam...      M9V    Etobicoke\n",
              "102                                          Northwest      M9W    Etobicoke\n",
              "\n",
              "[103 rows x 3 columns]"
            ]
          },
          "metadata": {
            "tags": []
          },
          "execution_count": 152
        }
      ]
    },
    {
      "cell_type": "markdown",
      "metadata": {
        "id": "Bg06Nbd7kA5L",
        "colab_type": "text"
      },
      "source": [
        "#build new dataframe conclude geographical coordinates"
      ]
    },
    {
      "cell_type": "code",
      "metadata": {
        "id": "rJvpCxKjkIrQ",
        "colab_type": "code",
        "colab": {}
      },
      "source": [
        "df_geo = pd.read_csv(\"Geospatial_Coordinates.csv\")"
      ],
      "execution_count": 0,
      "outputs": []
    },
    {
      "cell_type": "code",
      "metadata": {
        "id": "DpuRVEzhkh4p",
        "colab_type": "code",
        "colab": {}
      },
      "source": [
        "df_geo.columns = [\"Postcode\",\"Latitude\",\"Longitude\"]"
      ],
      "execution_count": 0,
      "outputs": []
    },
    {
      "cell_type": "code",
      "metadata": {
        "id": "DitL9OK1kU1o",
        "colab_type": "code",
        "colab": {
          "base_uri": "https://localhost:8080/",
          "height": 404
        },
        "outputId": "36cc5039-df12-47fc-fcc9-1a0bb710bcd4"
      },
      "source": [
        "df_fin = df_geo.merge(df_new,how = \"left\", on = [\"Postcode\"])\n",
        "df_fin"
      ],
      "execution_count": 155,
      "outputs": [
        {
          "output_type": "execute_result",
          "data": {
            "text/html": [
              "<div>\n",
              "<style scoped>\n",
              "    .dataframe tbody tr th:only-of-type {\n",
              "        vertical-align: middle;\n",
              "    }\n",
              "\n",
              "    .dataframe tbody tr th {\n",
              "        vertical-align: top;\n",
              "    }\n",
              "\n",
              "    .dataframe thead th {\n",
              "        text-align: right;\n",
              "    }\n",
              "</style>\n",
              "<table border=\"1\" class=\"dataframe\">\n",
              "  <thead>\n",
              "    <tr style=\"text-align: right;\">\n",
              "      <th></th>\n",
              "      <th>Postcode</th>\n",
              "      <th>Latitude</th>\n",
              "      <th>Longitude</th>\n",
              "      <th>Neighbourhood</th>\n",
              "      <th>Borough</th>\n",
              "    </tr>\n",
              "  </thead>\n",
              "  <tbody>\n",
              "    <tr>\n",
              "      <th>0</th>\n",
              "      <td>M1B</td>\n",
              "      <td>43.806686</td>\n",
              "      <td>-79.194353</td>\n",
              "      <td>Rouge,Malvern</td>\n",
              "      <td>Scarborough</td>\n",
              "    </tr>\n",
              "    <tr>\n",
              "      <th>1</th>\n",
              "      <td>M1C</td>\n",
              "      <td>43.784535</td>\n",
              "      <td>-79.160497</td>\n",
              "      <td>Highland Creek,Rouge Hill,Port Union</td>\n",
              "      <td>Scarborough</td>\n",
              "    </tr>\n",
              "    <tr>\n",
              "      <th>2</th>\n",
              "      <td>M1E</td>\n",
              "      <td>43.763573</td>\n",
              "      <td>-79.188711</td>\n",
              "      <td>Guildwood,Morningside,West Hill</td>\n",
              "      <td>Scarborough</td>\n",
              "    </tr>\n",
              "    <tr>\n",
              "      <th>3</th>\n",
              "      <td>M1G</td>\n",
              "      <td>43.770992</td>\n",
              "      <td>-79.216917</td>\n",
              "      <td>Woburn</td>\n",
              "      <td>Scarborough</td>\n",
              "    </tr>\n",
              "    <tr>\n",
              "      <th>4</th>\n",
              "      <td>M1H</td>\n",
              "      <td>43.773136</td>\n",
              "      <td>-79.239476</td>\n",
              "      <td>Cedarbrae</td>\n",
              "      <td>Scarborough</td>\n",
              "    </tr>\n",
              "    <tr>\n",
              "      <th>...</th>\n",
              "      <td>...</td>\n",
              "      <td>...</td>\n",
              "      <td>...</td>\n",
              "      <td>...</td>\n",
              "      <td>...</td>\n",
              "    </tr>\n",
              "    <tr>\n",
              "      <th>98</th>\n",
              "      <td>M9N</td>\n",
              "      <td>43.706876</td>\n",
              "      <td>-79.518188</td>\n",
              "      <td>Weston</td>\n",
              "      <td>York</td>\n",
              "    </tr>\n",
              "    <tr>\n",
              "      <th>99</th>\n",
              "      <td>M9P</td>\n",
              "      <td>43.696319</td>\n",
              "      <td>-79.532242</td>\n",
              "      <td>Westmount</td>\n",
              "      <td>Etobicoke</td>\n",
              "    </tr>\n",
              "    <tr>\n",
              "      <th>100</th>\n",
              "      <td>M9R</td>\n",
              "      <td>43.688905</td>\n",
              "      <td>-79.554724</td>\n",
              "      <td>Kingsview Village,Martin Grove Gardens,Richvie...</td>\n",
              "      <td>Etobicoke</td>\n",
              "    </tr>\n",
              "    <tr>\n",
              "      <th>101</th>\n",
              "      <td>M9V</td>\n",
              "      <td>43.739416</td>\n",
              "      <td>-79.588437</td>\n",
              "      <td>Albion Gardens,Beaumond Heights,Humbergate,Jam...</td>\n",
              "      <td>Etobicoke</td>\n",
              "    </tr>\n",
              "    <tr>\n",
              "      <th>102</th>\n",
              "      <td>M9W</td>\n",
              "      <td>43.706748</td>\n",
              "      <td>-79.594054</td>\n",
              "      <td>Northwest</td>\n",
              "      <td>Etobicoke</td>\n",
              "    </tr>\n",
              "  </tbody>\n",
              "</table>\n",
              "<p>103 rows × 5 columns</p>\n",
              "</div>"
            ],
            "text/plain": [
              "    Postcode  ...      Borough\n",
              "0        M1B  ...  Scarborough\n",
              "1        M1C  ...  Scarborough\n",
              "2        M1E  ...  Scarborough\n",
              "3        M1G  ...  Scarborough\n",
              "4        M1H  ...  Scarborough\n",
              "..       ...  ...          ...\n",
              "98       M9N  ...         York\n",
              "99       M9P  ...    Etobicoke\n",
              "100      M9R  ...    Etobicoke\n",
              "101      M9V  ...    Etobicoke\n",
              "102      M9W  ...    Etobicoke\n",
              "\n",
              "[103 rows x 5 columns]"
            ]
          },
          "metadata": {
            "tags": []
          },
          "execution_count": 155
        }
      ]
    },
    {
      "cell_type": "markdown",
      "metadata": {
        "id": "CWYYEZqBhWjY",
        "colab_type": "text"
      },
      "source": [
        "#Do cluster part"
      ]
    },
    {
      "cell_type": "code",
      "metadata": {
        "id": "34rP4hh9hki0",
        "colab_type": "code",
        "colab": {}
      },
      "source": [
        "import matplotlib.pyplot as plt \n",
        "from sklearn.cluster import KMeans "
      ],
      "execution_count": 0,
      "outputs": []
    },
    {
      "cell_type": "markdown",
      "metadata": {
        "id": "SIHmZb64haaU",
        "colab_type": "text"
      },
      "source": [
        "#### landencoding"
      ]
    },
    {
      "cell_type": "markdown",
      "metadata": {
        "id": "ymGFI6kYmiLI",
        "colab_type": "text"
      },
      "source": [
        "drop Neighbourhood\tlist"
      ]
    },
    {
      "cell_type": "code",
      "metadata": {
        "id": "3sXyoPetj_r4",
        "colab_type": "code",
        "colab": {}
      },
      "source": [
        "df_cl = df_fin.drop(\"Neighbourhood\",axis = 1)"
      ],
      "execution_count": 0,
      "outputs": []
    },
    {
      "cell_type": "code",
      "metadata": {
        "id": "dWnolAlOhvmP",
        "colab_type": "code",
        "colab": {}
      },
      "source": [
        "from sklearn.preprocessing import LabelEncoder\n",
        "# process columns, apply LabelEncoder to categorical features\n",
        "for c in df_cl.columns:\n",
        "  if str(df_cl[c].dtype) == \"object\":\n",
        "    lbl = LabelEncoder() \n",
        "    lbl.fit(list(df_cl[c].values)) \n",
        "    df_cl[c] = lbl.transform(list(df_cl[c].values))"
      ],
      "execution_count": 0,
      "outputs": []
    },
    {
      "cell_type": "markdown",
      "metadata": {
        "id": "UwJ4fFfuhv1f",
        "colab_type": "text"
      },
      "source": [
        "#### k_means"
      ]
    },
    {
      "cell_type": "markdown",
      "metadata": {
        "id": "CSM7SByrm8ye",
        "colab_type": "text"
      },
      "source": [
        "Train"
      ]
    },
    {
      "cell_type": "code",
      "metadata": {
        "id": "b3OzGDZim60G",
        "colab_type": "code",
        "colab": {
          "base_uri": "https://localhost:8080/",
          "height": 67
        },
        "outputId": "0b52d11e-df89-4704-9b8d-20b632fc1942"
      },
      "source": [
        "# for k in range(1,6):\n",
        "k_means = KMeans(init = \"k-means++\", n_clusters = 4, n_init = 12)\n",
        "k_means.fit(df_cl)"
      ],
      "execution_count": 172,
      "outputs": [
        {
          "output_type": "execute_result",
          "data": {
            "text/plain": [
              "KMeans(algorithm='auto', copy_x=True, init='k-means++', max_iter=300,\n",
              "       n_clusters=4, n_init=12, n_jobs=None, precompute_distances='auto',\n",
              "       random_state=None, tol=0.0001, verbose=0)"
            ]
          },
          "metadata": {
            "tags": []
          },
          "execution_count": 172
        }
      ]
    },
    {
      "cell_type": "markdown",
      "metadata": {
        "id": "Z1MA8XHFm-KS",
        "colab_type": "text"
      },
      "source": [
        "get labels"
      ]
    },
    {
      "cell_type": "code",
      "metadata": {
        "id": "bNnRWtH-m_i_",
        "colab_type": "code",
        "colab": {
          "base_uri": "https://localhost:8080/",
          "height": 100
        },
        "outputId": "2eed13cf-e31e-4a3f-ca3e-b39849cea161"
      },
      "source": [
        "k_means_labels = k_means.labels_\n",
        "k_means_labels"
      ],
      "execution_count": 173,
      "outputs": [
        {
          "output_type": "execute_result",
          "data": {
            "text/plain": [
              "array([1, 1, 1, 1, 1, 1, 1, 1, 1, 1, 1, 1, 1, 1, 1, 1, 1, 1, 1, 1, 1, 1,\n",
              "       1, 1, 1, 1, 3, 3, 3, 3, 3, 3, 3, 3, 3, 3, 3, 3, 3, 3, 3, 3, 3, 3,\n",
              "       3, 3, 3, 3, 3, 3, 3, 3, 0, 0, 0, 0, 0, 0, 0, 0, 0, 0, 0, 0, 0, 0,\n",
              "       0, 0, 0, 0, 0, 0, 0, 0, 0, 0, 0, 2, 2, 2, 2, 2, 2, 2, 2, 2, 2, 2,\n",
              "       2, 2, 2, 2, 2, 2, 2, 2, 2, 2, 2, 2, 2, 2, 2], dtype=int32)"
            ]
          },
          "metadata": {
            "tags": []
          },
          "execution_count": 173
        }
      ]
    },
    {
      "cell_type": "markdown",
      "metadata": {
        "id": "DchXfH1pnAxQ",
        "colab_type": "text"
      },
      "source": [
        "get center"
      ]
    },
    {
      "cell_type": "code",
      "metadata": {
        "id": "Jal2dPUEm8Uk",
        "colab_type": "code",
        "colab": {
          "base_uri": "https://localhost:8080/",
          "height": 84
        },
        "outputId": "84729be5-4b98-4c36-ab0b-669e147b49bc"
      },
      "source": [
        "k_means_cluster_centers = k_means.cluster_centers_\n",
        "k_means_cluster_centers"
      ],
      "execution_count": 174,
      "outputs": [
        {
          "output_type": "execute_result",
          "data": {
            "text/plain": [
              "array([[ 64.        ,  43.66888228, -79.40192923,   2.4       ],\n",
              "       [ 12.5       ,  43.76925133, -79.29592678,   6.65384615],\n",
              "       [ 89.5       ,  43.66905545, -79.50596061,   5.42307692],\n",
              "       [ 38.5       ,  43.70986782, -79.38497873,   3.03846154]])"
            ]
          },
          "metadata": {
            "tags": []
          },
          "execution_count": 174
        }
      ]
    },
    {
      "cell_type": "markdown",
      "metadata": {
        "id": "ssZWk9zHnQfn",
        "colab_type": "text"
      },
      "source": [
        "Draw a picture"
      ]
    },
    {
      "cell_type": "code",
      "metadata": {
        "id": "QRLea0W4hZ3l",
        "colab_type": "code",
        "colab": {
          "base_uri": "https://localhost:8080/",
          "height": 268
        },
        "outputId": "0594e36a-6595-45ab-a39d-6be85b0e78cc"
      },
      "source": [
        "\n",
        "# Initialize the plot with the specified dimensions.\n",
        "fig = plt.figure(figsize=(6, 4))\n",
        "\n",
        "# Colors uses a color map, which will produce an array of colors based on\n",
        "# the number of labels there are. We use set(k_means_labels) to get the\n",
        "# unique labels.\n",
        "colors = plt.cm.Spectral(np.linspace(0, 1, len(set(k_means_labels))))\n",
        "\n",
        "# Create a plot\n",
        "ax = fig.add_subplot(1, 1, 1)\n",
        "\n",
        "# For loop that plots the data points and centroids.\n",
        "# k will range from 0-3, which will match the possible clusters that each\n",
        "# data point is in.\n",
        "for k, col in zip(range(len([[4,4], [-2, -1], [2, -3], [1, 1]])), colors):\n",
        "\n",
        "    # Create a list of all data points, where the data poitns that are \n",
        "    # in the cluster (ex. cluster 0) are labeled as true, else they are\n",
        "    # labeled as false.\n",
        "    my_members = (k_means_labels == k)\n",
        "    \n",
        "    # Define the centroid, or cluster center.\n",
        "    cluster_center = k_means_cluster_centers[k]\n",
        "    \n",
        "    # Plots the datapoints with color col.\n",
        "    ax.plot(df_cl[\"Latitude\"].loc[my_members], df_cl[\"Longitude\"].loc[my_members], 'w+', markerfacecolor=col, marker='.')\n",
        "    \n",
        "    # Plots the centroids with specified color, but with a darker outline\n",
        "    ax.plot(cluster_center[1], cluster_center[2], 'o', markerfacecolor=col,  markeredgecolor='k', markersize=6)\n",
        "\n",
        "# Title of the plot\n",
        "ax.set_title('KMeans')\n",
        "\n",
        "# Remove x-axis ticks\n",
        "ax.set_xticks(())\n",
        "\n",
        "# Remove y-axis ticks\n",
        "ax.set_yticks(())\n",
        "\n",
        "# Show the plot\n",
        "plt.show()"
      ],
      "execution_count": 180,
      "outputs": [
        {
          "output_type": "display_data",
          "data": {
            "image/png": "[encoded data removed]",
            "text/plain": [
              "<Figure size 432x288 with 1 Axes>"
            ]
          },
          "metadata": {
            "tags": []
          }
        }
      ]
    },
    {
      "cell_type": "code",
      "metadata": {
        "id": "6HShnOT2ndTB",
        "colab_type": "code",
        "colab": {}
      },
      "source": [
        ""
      ],
      "execution_count": 0,
      "outputs": []
    }
  ]
}