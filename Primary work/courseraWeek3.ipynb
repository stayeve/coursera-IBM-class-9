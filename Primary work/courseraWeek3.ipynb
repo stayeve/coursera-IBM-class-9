{
  "nbformat": 4,
  "nbformat_minor": 0,
  "metadata": {
    "colab": {
      "name": "courseraWeek3.ipynb",
      "provenance": [],
      "collapsed_sections": []
    },
    "kernelspec": {
      "name": "python3",
      "display_name": "Python 3"
    }
  },
  "cells": [
    {
      "cell_type": "code",
      "metadata": {
        "id": "29jMq6J2Q5eX",
        "colab_type": "code",
        "colab": {}
      },
      "source": [
        "import pandas as pd\n",
        "import numpy as np"
      ],
      "execution_count": 0,
      "outputs": []
    },
    {
      "cell_type": "code",
      "metadata": {
        "id": "7pyuJYWkQ9Qq",
        "colab_type": "code",
        "colab": {
          "base_uri": "https://localhost:8080/",
          "height": 33
        },
        "outputId": "6710d5cb-ecb7-4e6b-83be-27800e9a8e11"
      },
      "source": [
        "print(\"Hello Capstone Project Course!\")"
      ],
      "execution_count": 2,
      "outputs": [
        {
          "output_type": "stream",
          "text": [
            "Hello Capstone Project Course!\n"
          ],
          "name": "stdout"
        }
      ]
    },
    {
      "cell_type": "markdown",
      "metadata": {
        "id": "dsisCilufl61",
        "colab_type": "text"
      },
      "source": [
        "Use the Notebook to build the code to scrape the following Wikipedia page, https://en.wikipedia.org/wiki/List_of_postal_codes_of_Canada:_M, in order to obtain the data that is in the table of postal codes and to transform the data into a pandas dataframe like the one shown below:"
      ]
    },
    {
      "cell_type": "code",
      "metadata": {
        "id": "lHwX2YL4Tuij",
        "colab_type": "code",
        "colab": {}
      },
      "source": [
        "import requests\n",
        "from bs4 import BeautifulSoup"
      ],
      "execution_count": 0,
      "outputs": []
    },
    {
      "cell_type": "code",
      "metadata": {
        "id": "Xu--1SaWT4QC",
        "colab_type": "code",
        "colab": {}
      },
      "source": [
        "target = 'https://en.wikipedia.org/wiki/List_of_postal_codes_of_Canada:_M'\n",
        "req = requests.get(url = target)\n",
        "html = req.text\n",
        "bf = BeautifulSoup(html,'lxml')\n",
        "bf.find_all(\"tbody\") \n",
        "\n",
        "main = bf.find_all('table',class_ = \"wikitable sortable\") \n",
        "bf_tr = BeautifulSoup(str(main),'lxml')\n",
        "str_tr = bf_tr.find_all('tr')\n",
        "Postcode = []\n",
        "Borough = []\n",
        "Neighbourhood = [] \n",
        "for mm in str_tr[1:]:\n",
        "  Postcode.append(BeautifulSoup(str(mm),'lxml').find_all('td')[0].get_text())\n",
        "  Borough.append(BeautifulSoup(str(mm),'lxml').find_all('td')[1].get_text())\n",
        "  Neighbourhood.append(BeautifulSoup(str(mm),'lxml').find_all('td')[2].get_text().replace(\"\\n\",\"\"))"
      ],
      "execution_count": 0,
      "outputs": []
    },
    {
      "cell_type": "markdown",
      "metadata": {
        "id": "ch1PtOA-frdm",
        "colab_type": "text"
      },
      "source": [
        "*   The dataframe will consist of three columns: PostalCode, Borough, and Neighborhood\n",
        "*   Only process the cells that have an assigned borough. Ignore cells with a borough that is Not assigned.\n",
        "*   More than one neighborhood can exist in one postal code area. For example, in the table on the Wikipedia page, you will notice that M5A is listed twice and has two neighborhoods: Harbourfront and Regent Park. These two rows will be combined into one row with the neighborhoods separated with a comma as shown in row 11 in the above table.\n",
        "*   If a cell has a borough but a Not assigned neighborhood, then the neighborhood will be the same as the borough.\n",
        "*   Clean your Notebook and add Markdown cells to explain your work and any assumptions you are making.\n",
        "*   In the last cell of your notebook, use the .shape method to print the number of rows of your dataframe."
      ]
    },
    {
      "cell_type": "code",
      "metadata": {
        "id": "ep68XiYtWgUD",
        "colab_type": "code",
        "colab": {}
      },
      "source": [
        "pan = {\"Postcode\":Postcode,\"Borough\":Borough,\"Neighbourhood\":Neighbourhood}\n",
        "df = pd.DataFrame(pan)\n",
        "df = df.drop(df[df[\"Borough\"] == \"Not assigned\"].index)\n",
        "df[\"Neighbourhood\"] = df.apply((lambda x: x[\"Neighbourhood\"] if x[\"Neighbourhood\"] != \"Not assigned\" else x[\"Borough\"]),axis = 1)"
      ],
      "execution_count": 0,
      "outputs": []
    },
    {
      "cell_type": "code",
      "metadata": {
        "id": "WI6aSHk3anfC",
        "colab_type": "code",
        "colab": {}
      },
      "source": [
        "df_new = df.groupby([\"Postcode\",'Borough']).count()"
      ],
      "execution_count": 0,
      "outputs": []
    },
    {
      "cell_type": "code",
      "metadata": {
        "id": "k_mqTj-DbiFO",
        "colab_type": "code",
        "colab": {}
      },
      "source": [
        "df_new[\"Postcode\"] = \" \"\n",
        "df_new[\"Borough\"] = \" \"\n",
        "df_new[\"Neighbourhood\"] = \" \"\n",
        "for pos,bor in df_new.index:\n",
        "  df_new[\"Postcode\"].loc[(pos,bor)] = pos\n",
        "  df_new[\"Borough\"].loc[(pos,bor)] = bor\n",
        "  df_new[\"Neighbourhood\"].loc[(pos,bor)] = \",\".join(list(df[\"Neighbourhood\"][df[\"Postcode\"]==pos]))\n",
        "  "
      ],
      "execution_count": 0,
      "outputs": []
    },
    {
      "cell_type": "code",
      "metadata": {
        "id": "qlZvWe-mcyse",
        "colab_type": "code",
        "colab": {}
      },
      "source": [
        "df_new = df_new.reset_index(drop=True)"
      ],
      "execution_count": 0,
      "outputs": []
    },
    {
      "cell_type": "code",
      "metadata": {
        "id": "HYKMY57-fYQG",
        "colab_type": "code",
        "colab": {
          "base_uri": "https://localhost:8080/",
          "height": 404
        },
        "outputId": "a2e98680-5d87-4e64-cda7-c864ea5b6c7a"
      },
      "source": [
        "df_new"
      ],
      "execution_count": 114,
      "outputs": [
        {
          "output_type": "execute_result",
          "data": {
            "text/html": [
              "<div>\n",
              "<style scoped>\n",
              "    .dataframe tbody tr th:only-of-type {\n",
              "        vertical-align: middle;\n",
              "    }\n",
              "\n",
              "    .dataframe tbody tr th {\n",
              "        vertical-align: top;\n",
              "    }\n",
              "\n",
              "    .dataframe thead th {\n",
              "        text-align: right;\n",
              "    }\n",
              "</style>\n",
              "<table border=\"1\" class=\"dataframe\">\n",
              "  <thead>\n",
              "    <tr style=\"text-align: right;\">\n",
              "      <th></th>\n",
              "      <th>Neighbourhood</th>\n",
              "      <th>Postcode</th>\n",
              "      <th>Borough</th>\n",
              "    </tr>\n",
              "  </thead>\n",
              "  <tbody>\n",
              "    <tr>\n",
              "      <th>0</th>\n",
              "      <td>Rouge,Malvern</td>\n",
              "      <td>M1B</td>\n",
              "      <td>Scarborough</td>\n",
              "    </tr>\n",
              "    <tr>\n",
              "      <th>1</th>\n",
              "      <td>Highland Creek,Rouge Hill,Port Union</td>\n",
              "      <td>M1C</td>\n",
              "      <td>Scarborough</td>\n",
              "    </tr>\n",
              "    <tr>\n",
              "      <th>2</th>\n",
              "      <td>Guildwood,Morningside,West Hill</td>\n",
              "      <td>M1E</td>\n",
              "      <td>Scarborough</td>\n",
              "    </tr>\n",
              "    <tr>\n",
              "      <th>3</th>\n",
              "      <td>Woburn</td>\n",
              "      <td>M1G</td>\n",
              "      <td>Scarborough</td>\n",
              "    </tr>\n",
              "    <tr>\n",
              "      <th>4</th>\n",
              "      <td>Cedarbrae</td>\n",
              "      <td>M1H</td>\n",
              "      <td>Scarborough</td>\n",
              "    </tr>\n",
              "    <tr>\n",
              "      <th>...</th>\n",
              "      <td>...</td>\n",
              "      <td>...</td>\n",
              "      <td>...</td>\n",
              "    </tr>\n",
              "    <tr>\n",
              "      <th>98</th>\n",
              "      <td>Weston</td>\n",
              "      <td>M9N</td>\n",
              "      <td>York</td>\n",
              "    </tr>\n",
              "    <tr>\n",
              "      <th>99</th>\n",
              "      <td>Westmount</td>\n",
              "      <td>M9P</td>\n",
              "      <td>Etobicoke</td>\n",
              "    </tr>\n",
              "    <tr>\n",
              "      <th>100</th>\n",
              "      <td>Kingsview Village,Martin Grove Gardens,Richvie...</td>\n",
              "      <td>M9R</td>\n",
              "      <td>Etobicoke</td>\n",
              "    </tr>\n",
              "    <tr>\n",
              "      <th>101</th>\n",
              "      <td>Albion Gardens,Beaumond Heights,Humbergate,Jam...</td>\n",
              "      <td>M9V</td>\n",
              "      <td>Etobicoke</td>\n",
              "    </tr>\n",
              "    <tr>\n",
              "      <th>102</th>\n",
              "      <td>Northwest</td>\n",
              "      <td>M9W</td>\n",
              "      <td>Etobicoke</td>\n",
              "    </tr>\n",
              "  </tbody>\n",
              "</table>\n",
              "<p>103 rows × 3 columns</p>\n",
              "</div>"
            ],
            "text/plain": [
              "                                         Neighbourhood Postcode      Borough\n",
              "0                                        Rouge,Malvern      M1B  Scarborough\n",
              "1                 Highland Creek,Rouge Hill,Port Union      M1C  Scarborough\n",
              "2                      Guildwood,Morningside,West Hill      M1E  Scarborough\n",
              "3                                               Woburn      M1G  Scarborough\n",
              "4                                            Cedarbrae      M1H  Scarborough\n",
              "..                                                 ...      ...          ...\n",
              "98                                              Weston      M9N         York\n",
              "99                                           Westmount      M9P    Etobicoke\n",
              "100  Kingsview Village,Martin Grove Gardens,Richvie...      M9R    Etobicoke\n",
              "101  Albion Gardens,Beaumond Heights,Humbergate,Jam...      M9V    Etobicoke\n",
              "102                                          Northwest      M9W    Etobicoke\n",
              "\n",
              "[103 rows x 3 columns]"
            ]
          },
          "metadata": {
            "tags": []
          },
          "execution_count": 114
        }
      ]
    }
  ]
}